{
 "cells": [
  {
   "cell_type": "markdown",
   "id": "2dc72bc9-8f44-4cee-98eb-c2a9790c007a",
   "metadata": {},
   "source": [
    "### 딕셔너리\n",
    "- 불변한 Key, 변화가능한 value로 맵핑되어 있는 순서가 없는 집합"
   ]
  },
  {
   "cell_type": "code",
   "execution_count": 23,
   "id": "fb522edf-bb7b-4e3c-aefb-9a7ec1794e66",
   "metadata": {},
   "outputs": [
    {
     "name": "stdout",
     "output_type": "stream",
     "text": [
      "{'name': '오희진', 'age': 24, 'phone': '010-3910-4864'}\n"
     ]
    }
   ],
   "source": [
    "dict1 = {'name' : '오희진', 'age' : 24, 'phone' : '010-3910-4864'}\n",
    "print(dict1)"
   ]
  },
  {
   "cell_type": "code",
   "execution_count": 5,
   "id": "a5c31fed-b35e-4364-b4dd-5adb7d7ea2ac",
   "metadata": {},
   "outputs": [
    {
     "name": "stdout",
     "output_type": "stream",
     "text": [
      "<class 'dict'>\n"
     ]
    }
   ],
   "source": [
    "print(type(dict1))"
   ]
  },
  {
   "cell_type": "code",
   "execution_count": 6,
   "id": "084f457e-2faf-4920-a20d-f2408341f6fa",
   "metadata": {},
   "outputs": [
    {
     "data": {
      "text/plain": [
       "3"
      ]
     },
     "execution_count": 6,
     "metadata": {},
     "output_type": "execute_result"
    }
   ],
   "source": [
    "len(dict1)"
   ]
  },
  {
   "cell_type": "code",
   "execution_count": 9,
   "id": "899a635a-98c8-440f-b5eb-dbd9b5d51453",
   "metadata": {},
   "outputs": [
    {
     "name": "stdout",
     "output_type": "stream",
     "text": [
      "name\n",
      "age\n",
      "phone\n"
     ]
    }
   ],
   "source": [
    "for i in dict1:\n",
    "    print(i)"
   ]
  },
  {
   "cell_type": "code",
   "execution_count": null,
   "id": "b553dd4a-aaf4-46f1-94a1-34ab60d57275",
   "metadata": {},
   "outputs": [],
   "source": []
  },
  {
   "cell_type": "code",
   "execution_count": 12,
   "id": "fe4d7cfe-c2e8-4f45-b029-c3ab185ffc19",
   "metadata": {},
   "outputs": [
    {
     "name": "stdout",
     "output_type": "stream",
     "text": [
      "오희진\n",
      "24\n",
      "010-3910-4864\n",
      "\n"
     ]
    },
    {
     "data": {
      "text/plain": [
       "'오희진'"
      ]
     },
     "execution_count": 12,
     "metadata": {},
     "output_type": "execute_result"
    }
   ],
   "source": [
    "# 딕셔너리의 값 가져오기\n",
    "# print(dict[1])\n",
    "# 딕셔너리는 순서가 없는 자료형이기 때문에, 인덱스 번호가 없음.\n",
    "# 대신, key 값을 통해서 데이터를 가져온다.\n",
    "\n",
    "print(dict1['name'])\n",
    "print(dict1['age'])\n",
    "print(dict1['phone'])\n",
    "\n",
    "print()\n",
    "\n",
    "dict1.get('name')"
   ]
  },
  {
   "cell_type": "code",
   "execution_count": 15,
   "id": "e9262d4c-d8c1-4561-b84f-489f6116c000",
   "metadata": {},
   "outputs": [
    {
     "data": {
      "text/plain": [
       "{'name': '오희진', 'age': 25, 'phone': '010-3910-4864'}"
      ]
     },
     "execution_count": 15,
     "metadata": {},
     "output_type": "execute_result"
    }
   ],
   "source": [
    "# 딕셔너리의 값 변경\n",
    "dict1['age'] = 25\n",
    "\n",
    "dict1"
   ]
  },
  {
   "cell_type": "code",
   "execution_count": 21,
   "id": "639f9064-e0c5-4d8a-a9a7-2e1c9e644453",
   "metadata": {},
   "outputs": [
    {
     "data": {
      "text/plain": [
       "{'birth': '02/02'}"
      ]
     },
     "execution_count": 21,
     "metadata": {},
     "output_type": "execute_result"
    }
   ],
   "source": [
    "# 딕셔너리의 값 추가\n",
    "dict1['birth'] = '02/02'\n",
    "\n",
    "dict1"
   ]
  },
  {
   "cell_type": "code",
   "execution_count": 19,
   "id": "a92821e3-0a10-4962-8219-cb4bf3295b70",
   "metadata": {},
   "outputs": [
    {
     "data": {
      "text/plain": [
       "{'name': '오희진', 'phone': '010-3910-4864', 'birth': '02/02'}"
      ]
     },
     "execution_count": 19,
     "metadata": {},
     "output_type": "execute_result"
    }
   ],
   "source": [
    "# 딕셔너리의 값 삭제\n",
    "del dict1['age']\n",
    "dict1"
   ]
  },
  {
   "cell_type": "code",
   "execution_count": 22,
   "id": "a98ef253-663d-484c-89e9-047badc3fa3a",
   "metadata": {},
   "outputs": [
    {
     "data": {
      "text/plain": [
       "{}"
      ]
     },
     "execution_count": 22,
     "metadata": {},
     "output_type": "execute_result"
    }
   ],
   "source": [
    "# 딕셔너리 비워주는 함수\n",
    "# clear()\n",
    "dict1.clear()\n",
    "dict1"
   ]
  },
  {
   "cell_type": "code",
   "execution_count": 25,
   "id": "ea50b9de-200d-4029-9226-064dfde01a24",
   "metadata": {},
   "outputs": [
    {
     "data": {
      "text/plain": [
       "{'팀원1': '오희진', '팀원2': '김혜림', '팀원3': '나규민'}"
      ]
     },
     "execution_count": 25,
     "metadata": {},
     "output_type": "execute_result"
    }
   ],
   "source": [
    "mini = {'팀원1' : '오희진', '팀원2' : '김혜림', '팀원3' :'나규민'}\n",
    "mini"
   ]
  },
  {
   "cell_type": "code",
   "execution_count": 27,
   "id": "5d8d16a3-4c36-4042-9c9c-d471aea11d47",
   "metadata": {},
   "outputs": [],
   "source": [
    "# 1. 딕셔너리 값 추가를 통해서 미니프로젝트 팀원 완성\n",
    "# 2. 딕셔너리 값 삭제 or 변경 or 추가를 통해 현재 팀원으로 변경\n",
    "mini['팀원3'] = '박지은'\n",
    "mini['팀원4'] = '이동한'\n",
    "mini['팀원5'] = '차명훈'"
   ]
  },
  {
   "cell_type": "code",
   "execution_count": 28,
   "id": "d410be33-9df2-4771-8d8f-47fca30a6b27",
   "metadata": {},
   "outputs": [
    {
     "data": {
      "text/plain": [
       "{'팀원1': '오희진', '팀원2': '김혜림', '팀원3': '박지은', '팀원4': '이동한', '팀원5': '차명훈'}"
      ]
     },
     "execution_count": 28,
     "metadata": {},
     "output_type": "execute_result"
    }
   ],
   "source": [
    "mini"
   ]
  },
  {
   "cell_type": "code",
   "execution_count": 29,
   "id": "d6d3a52a-d98c-4588-883e-e0c665311a80",
   "metadata": {},
   "outputs": [
    {
     "data": {
      "text/plain": [
       "{'이름': ['신재영', '신재영', '임승환', '이도연', '주미리'],\n",
       " 'Python': [95, 100, 85, 90, 80],\n",
       " 'Java': [85, 80, 100, 95, 85],\n",
       " 'html/css': [75, 70, 90, 80, 90]}"
      ]
     },
     "execution_count": 29,
     "metadata": {},
     "output_type": "execute_result"
    }
   ],
   "source": [
    "score_dict = {'이름':['신재영','신재영','임승환','이도연','주미리'],\n",
    "        'Python':[95,100,85,90,80],\n",
    "        'Java':[85,80,100,95,85],\n",
    "        'html/css':[75,70,90,80,90]}\n",
    "score_dict"
   ]
  },
  {
   "cell_type": "code",
   "execution_count": 30,
   "id": "0730f65d-1005-4705-9cd3-cce4e9dc77a5",
   "metadata": {},
   "outputs": [
    {
     "data": {
      "text/plain": [
       "['신재영', '신재영', '임승환', '이도연', '주미리']"
      ]
     },
     "execution_count": 30,
     "metadata": {},
     "output_type": "execute_result"
    }
   ],
   "source": [
    "score_dict['이름']"
   ]
  },
  {
   "cell_type": "code",
   "execution_count": 31,
   "id": "7a6bdf5d-cf1e-4839-9eae-47406f582882",
   "metadata": {},
   "outputs": [
    {
     "data": {
      "text/plain": [
       "list"
      ]
     },
     "execution_count": 31,
     "metadata": {},
     "output_type": "execute_result"
    }
   ],
   "source": [
    "type(score_dict['이름'])"
   ]
  },
  {
   "cell_type": "code",
   "execution_count": 32,
   "id": "c792386d-cc19-4bdf-abde-b20fabd7edf2",
   "metadata": {},
   "outputs": [
    {
     "data": {
      "text/plain": [
       "5"
      ]
     },
     "execution_count": 32,
     "metadata": {},
     "output_type": "execute_result"
    }
   ],
   "source": [
    "len(score_dict['이름'])"
   ]
  },
  {
   "cell_type": "code",
   "execution_count": 33,
   "id": "26881d1e-3181-4d64-94b1-55e98accabc4",
   "metadata": {},
   "outputs": [
    {
     "data": {
      "text/plain": [
       "'이도연'"
      ]
     },
     "execution_count": 33,
     "metadata": {},
     "output_type": "execute_result"
    }
   ],
   "source": [
    "score_dict['이름'][3]"
   ]
  },
  {
   "cell_type": "code",
   "execution_count": 35,
   "id": "4e94e026-3624-4f8e-8889-18aa3d4116ed",
   "metadata": {},
   "outputs": [
    {
     "data": {
      "text/plain": [
       "95"
      ]
     },
     "execution_count": 35,
     "metadata": {},
     "output_type": "execute_result"
    }
   ],
   "source": [
    "score_dict['Java'][3]"
   ]
  },
  {
   "cell_type": "markdown",
   "id": "11cc7365-4284-40f2-bf3d-455cff7db7d8",
   "metadata": {},
   "source": [
    "#### 사용자로부터 이름을 입력받아, 해당 학생의 Python, Java, html/css의 평균점수 출력\n",
    "- 잘못된 입력 시 안내문구 출력"
   ]
  },
  {
   "cell_type": "code",
   "execution_count": 46,
   "id": "deceda11-7574-4d51-b68d-4c9c3b012d4f",
   "metadata": {},
   "outputs": [
    {
     "name": "stdin",
     "output_type": "stream",
     "text": [
      "성적 확인을 위해 이름을 입력하세요 >>  주미리\n"
     ]
    },
    {
     "name": "stdout",
     "output_type": "stream",
     "text": [
      "주미리의 Python, java, html/css 성적의 평균 : 85.0\n"
     ]
    }
   ],
   "source": [
    "avg = 0 # 평균을 담아줄 변수\n",
    "check = True\n",
    "input_name = input('성적 확인을 위해 이름을 입력하세요 >> ')\n",
    "for i in range(len(score_dict['이름'])):\n",
    "    if input_name == score_dict['이름'][i]:\n",
    "        avg = ((score_dict['Python'][i] + score_dict['Java'][i] + score_dict['html/css'][i]) / 3 )\n",
    "        print(f'{input_name}의 Python, java, html/css 성적의 평균 : {avg}')\n",
    "        check = False\n",
    "if check:\n",
    "    print('검색 결과가 없습니다')"
   ]
  },
  {
   "cell_type": "code",
   "execution_count": null,
   "id": "7d36be56-690f-4872-bd4e-cab252a6474b",
   "metadata": {},
   "outputs": [],
   "source": []
  },
  {
   "cell_type": "code",
   "execution_count": null,
   "id": "82dc12ac-01f6-46ed-a050-f85fef5d5f01",
   "metadata": {},
   "outputs": [],
   "source": []
  },
  {
   "cell_type": "code",
   "execution_count": null,
   "id": "f915d7fc-0ce5-41a3-be9d-f384672d83f3",
   "metadata": {},
   "outputs": [],
   "source": []
  },
  {
   "cell_type": "code",
   "execution_count": null,
   "id": "c68305fb-b282-4261-b8ec-7f53c051e361",
   "metadata": {},
   "outputs": [],
   "source": []
  },
  {
   "cell_type": "code",
   "execution_count": null,
   "id": "92088a83-f256-4747-bdec-d27babee7e25",
   "metadata": {},
   "outputs": [],
   "source": []
  },
  {
   "cell_type": "code",
   "execution_count": null,
   "id": "8c187e41-10c4-4704-83be-3e1b69c0bb40",
   "metadata": {},
   "outputs": [],
   "source": []
  },
  {
   "cell_type": "code",
   "execution_count": null,
   "id": "443b64b5-a417-4503-b25d-7c3cf3c47850",
   "metadata": {},
   "outputs": [],
   "source": []
  },
  {
   "cell_type": "code",
   "execution_count": null,
   "id": "05eb7fe5-df01-4b0a-891c-03d3051d2344",
   "metadata": {},
   "outputs": [],
   "source": []
  },
  {
   "cell_type": "code",
   "execution_count": null,
   "id": "2d2445a4-ac42-4763-ba7b-737c853b2c4f",
   "metadata": {},
   "outputs": [],
   "source": []
  },
  {
   "cell_type": "code",
   "execution_count": null,
   "id": "1c68083f-6f5c-46e5-8024-f46b27cf31fe",
   "metadata": {},
   "outputs": [],
   "source": []
  },
  {
   "cell_type": "code",
   "execution_count": null,
   "id": "39d9fe7a-e5b8-4d95-b354-3e498ca4fa06",
   "metadata": {},
   "outputs": [],
   "source": []
  },
  {
   "cell_type": "code",
   "execution_count": null,
   "id": "f34fd9e4-ab4f-48e8-9b27-6805f9cac9ae",
   "metadata": {},
   "outputs": [],
   "source": []
  },
  {
   "cell_type": "code",
   "execution_count": null,
   "id": "02e18b89-a631-43fb-9960-e9e58b0c0788",
   "metadata": {},
   "outputs": [],
   "source": []
  },
  {
   "cell_type": "code",
   "execution_count": null,
   "id": "941b7660-ae60-4f34-bf46-481a07b8f8ae",
   "metadata": {},
   "outputs": [],
   "source": []
  },
  {
   "cell_type": "code",
   "execution_count": null,
   "id": "f1ef1b18-2e74-4dc9-a2df-e6ea6583e7c5",
   "metadata": {},
   "outputs": [],
   "source": []
  },
  {
   "cell_type": "code",
   "execution_count": null,
   "id": "d0a03047-097c-43b1-b018-7db80b65cfc5",
   "metadata": {},
   "outputs": [],
   "source": []
  },
  {
   "cell_type": "code",
   "execution_count": null,
   "id": "c4fe77f0-de26-42ac-a1b6-820d664f6a5a",
   "metadata": {},
   "outputs": [],
   "source": []
  },
  {
   "cell_type": "code",
   "execution_count": null,
   "id": "811b9931-1f4b-4941-b24b-36955ec3af95",
   "metadata": {},
   "outputs": [],
   "source": []
  }
 ],
 "metadata": {
  "kernelspec": {
   "display_name": "Python 3 (ipykernel)",
   "language": "python",
   "name": "python3"
  },
  "language_info": {
   "codemirror_mode": {
    "name": "ipython",
    "version": 3
   },
   "file_extension": ".py",
   "mimetype": "text/x-python",
   "name": "python",
   "nbconvert_exporter": "python",
   "pygments_lexer": "ipython3",
   "version": "3.12.7"
  }
 },
 "nbformat": 4,
 "nbformat_minor": 5
}
