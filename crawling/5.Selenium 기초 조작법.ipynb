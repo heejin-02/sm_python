{
 "cells": [
  {
   "cell_type": "code",
   "execution_count": null,
   "id": "8b18c250-0049-4648-9a33-002b63a5b28c",
   "metadata": {},
   "outputs": [],
   "source": [
    "# selenium 설치\n",
    "#!pip install selenium"
   ]
  },
  {
   "cell_type": "code",
   "execution_count": 2,
   "id": "80cb5c39-39f5-4ca9-bd19-d5143cb5e190",
   "metadata": {},
   "outputs": [],
   "source": [
    "# 라이브러리 호출\n",
    "# webdriver : 크롬 창 역할\n",
    "from selenium import webdriver as wb\n",
    "# 키보드 라이브러리\n",
    "from selenium.webdriver.common.keys import Keys\n",
    "# 선택자 라이브러리\n",
    "from selenium.webdriver.common.by import By"
   ]
  },
  {
   "cell_type": "code",
   "execution_count": 30,
   "id": "a89b3f23-cd87-40ca-8abf-a7f3af4833a6",
   "metadata": {},
   "outputs": [],
   "source": [
    "# 크롬 창에 대한 역할\n",
    "driver = wb.Chrome()"
   ]
  },
  {
   "cell_type": "code",
   "execution_count": 32,
   "id": "6883ccfe-6c82-49b3-b794-bc4d357162b8",
   "metadata": {
    "scrolled": true
   },
   "outputs": [],
   "source": [
    "# 페이지 이동\n",
    "driver.get(\"https://www.naver.com/\")"
   ]
  },
  {
   "cell_type": "code",
   "execution_count": 33,
   "id": "61d1c25e-89c9-40bc-92c4-7b6e1ccf97a6",
   "metadata": {},
   "outputs": [],
   "source": [
    "# 검색을 해보자\n",
    "# .find_element() -> 필요한 요소 찾는 명령\n",
    "# .find_elements() -> 복수개의 요소 찾는 명령\n",
    "search = driver.find_element(By.ID, \"query\" )"
   ]
  },
  {
   "cell_type": "code",
   "execution_count": 25,
   "id": "dc081a27-e786-4d1e-a952-bd0d6480dabb",
   "metadata": {},
   "outputs": [],
   "source": [
    "# .send_keys() -> 특정 값을 전달할 수 있음\n",
    "search.send_keys(\"햄버거\")"
   ]
  },
  {
   "cell_type": "code",
   "execution_count": 29,
   "id": "ab2c06a2-b71a-4764-9e55-8dafe019f985",
   "metadata": {},
   "outputs": [
    {
     "ename": "StaleElementReferenceException",
     "evalue": "Message: stale element reference: stale element not found\n  (Session info: chrome=135.0.7049.85); For documentation on this error, please visit: https://www.selenium.dev/documentation/webdriver/troubleshooting/errors#stale-element-reference-exception\nStacktrace:\n\tGetHandleVerifier [0x00007FF71ACF5335+78597]\n\tGetHandleVerifier [0x00007FF71ACF5390+78688]\n\t(No symbol) [0x00007FF71AAA91AA]\n\t(No symbol) [0x00007FF71AABF524]\n\t(No symbol) [0x00007FF71AABDFF3]\n\t(No symbol) [0x00007FF71AAB17E9]\n\t(No symbol) [0x00007FF71AAAF66F]\n\t(No symbol) [0x00007FF71AAB3B1C]\n\t(No symbol) [0x00007FF71AAB3BEF]\n\t(No symbol) [0x00007FF71AB0002A]\n\t(No symbol) [0x00007FF71AB000F7]\n\t(No symbol) [0x00007FF71AAF5A6B]\n\t(No symbol) [0x00007FF71AB270EA]\n\t(No symbol) [0x00007FF71AAF1AB6]\n\t(No symbol) [0x00007FF71AB27300]\n\t(No symbol) [0x00007FF71AB4F2BB]\n\t(No symbol) [0x00007FF71AB26EC3]\n\t(No symbol) [0x00007FF71AAF03F8]\n\t(No symbol) [0x00007FF71AAF1163]\n\tGetHandleVerifier [0x00007FF71AF9EEED+2870973]\n\tGetHandleVerifier [0x00007FF71AF99698+2848360]\n\tGetHandleVerifier [0x00007FF71AFB6973+2967875]\n\tGetHandleVerifier [0x00007FF71AD1017A+188746]\n\tGetHandleVerifier [0x00007FF71AD1845F+222255]\n\tGetHandleVerifier [0x00007FF71ACFD2B4+111236]\n\tGetHandleVerifier [0x00007FF71ACFD462+111666]\n\tGetHandleVerifier [0x00007FF71ACE3589+5465]\n\tBaseThreadInitThunk [0x00007FFCBC8C259D+29]\n\tRtlUserThreadStart [0x00007FFCBD32AF38+40]\n",
     "output_type": "error",
     "traceback": [
      "\u001b[1;31m---------------------------------------------------------------------------\u001b[0m",
      "\u001b[1;31mStaleElementReferenceException\u001b[0m            Traceback (most recent call last)",
      "Cell \u001b[1;32mIn[29], line 2\u001b[0m\n\u001b[0;32m      1\u001b[0m \u001b[38;5;66;03m# 엔터치기\u001b[39;00m\n\u001b[1;32m----> 2\u001b[0m search\u001b[38;5;241m.\u001b[39msend_keys(Keys\u001b[38;5;241m.\u001b[39mENTER)\n",
      "File \u001b[1;32m~\\anaconda3\\Lib\\site-packages\\selenium\\webdriver\\remote\\webelement.py:303\u001b[0m, in \u001b[0;36mWebElement.send_keys\u001b[1;34m(self, *value)\u001b[0m\n\u001b[0;32m    300\u001b[0m             remote_files\u001b[38;5;241m.\u001b[39mappend(\u001b[38;5;28mself\u001b[39m\u001b[38;5;241m.\u001b[39m_upload(file))\n\u001b[0;32m    301\u001b[0m         value \u001b[38;5;241m=\u001b[39m \u001b[38;5;28mtuple\u001b[39m(\u001b[38;5;124m\"\u001b[39m\u001b[38;5;130;01m\\n\u001b[39;00m\u001b[38;5;124m\"\u001b[39m\u001b[38;5;241m.\u001b[39mjoin(remote_files))\n\u001b[1;32m--> 303\u001b[0m \u001b[38;5;28mself\u001b[39m\u001b[38;5;241m.\u001b[39m_execute(\n\u001b[0;32m    304\u001b[0m     Command\u001b[38;5;241m.\u001b[39mSEND_KEYS_TO_ELEMENT, {\u001b[38;5;124m\"\u001b[39m\u001b[38;5;124mtext\u001b[39m\u001b[38;5;124m\"\u001b[39m: \u001b[38;5;124m\"\u001b[39m\u001b[38;5;124m\"\u001b[39m\u001b[38;5;241m.\u001b[39mjoin(keys_to_typing(value)), \u001b[38;5;124m\"\u001b[39m\u001b[38;5;124mvalue\u001b[39m\u001b[38;5;124m\"\u001b[39m: keys_to_typing(value)}\n\u001b[0;32m    305\u001b[0m )\n",
      "File \u001b[1;32m~\\anaconda3\\Lib\\site-packages\\selenium\\webdriver\\remote\\webelement.py:572\u001b[0m, in \u001b[0;36mWebElement._execute\u001b[1;34m(self, command, params)\u001b[0m\n\u001b[0;32m    570\u001b[0m     params \u001b[38;5;241m=\u001b[39m {}\n\u001b[0;32m    571\u001b[0m params[\u001b[38;5;124m\"\u001b[39m\u001b[38;5;124mid\u001b[39m\u001b[38;5;124m\"\u001b[39m] \u001b[38;5;241m=\u001b[39m \u001b[38;5;28mself\u001b[39m\u001b[38;5;241m.\u001b[39m_id\n\u001b[1;32m--> 572\u001b[0m \u001b[38;5;28;01mreturn\u001b[39;00m \u001b[38;5;28mself\u001b[39m\u001b[38;5;241m.\u001b[39m_parent\u001b[38;5;241m.\u001b[39mexecute(command, params)\n",
      "File \u001b[1;32m~\\anaconda3\\Lib\\site-packages\\selenium\\webdriver\\remote\\webdriver.py:429\u001b[0m, in \u001b[0;36mWebDriver.execute\u001b[1;34m(self, driver_command, params)\u001b[0m\n\u001b[0;32m    427\u001b[0m response \u001b[38;5;241m=\u001b[39m \u001b[38;5;28mself\u001b[39m\u001b[38;5;241m.\u001b[39mcommand_executor\u001b[38;5;241m.\u001b[39mexecute(driver_command, params)\n\u001b[0;32m    428\u001b[0m \u001b[38;5;28;01mif\u001b[39;00m response:\n\u001b[1;32m--> 429\u001b[0m     \u001b[38;5;28mself\u001b[39m\u001b[38;5;241m.\u001b[39merror_handler\u001b[38;5;241m.\u001b[39mcheck_response(response)\n\u001b[0;32m    430\u001b[0m     response[\u001b[38;5;124m\"\u001b[39m\u001b[38;5;124mvalue\u001b[39m\u001b[38;5;124m\"\u001b[39m] \u001b[38;5;241m=\u001b[39m \u001b[38;5;28mself\u001b[39m\u001b[38;5;241m.\u001b[39m_unwrap_value(response\u001b[38;5;241m.\u001b[39mget(\u001b[38;5;124m\"\u001b[39m\u001b[38;5;124mvalue\u001b[39m\u001b[38;5;124m\"\u001b[39m, \u001b[38;5;28;01mNone\u001b[39;00m))\n\u001b[0;32m    431\u001b[0m     \u001b[38;5;28;01mreturn\u001b[39;00m response\n",
      "File \u001b[1;32m~\\anaconda3\\Lib\\site-packages\\selenium\\webdriver\\remote\\errorhandler.py:232\u001b[0m, in \u001b[0;36mErrorHandler.check_response\u001b[1;34m(self, response)\u001b[0m\n\u001b[0;32m    230\u001b[0m         alert_text \u001b[38;5;241m=\u001b[39m value[\u001b[38;5;124m\"\u001b[39m\u001b[38;5;124malert\u001b[39m\u001b[38;5;124m\"\u001b[39m]\u001b[38;5;241m.\u001b[39mget(\u001b[38;5;124m\"\u001b[39m\u001b[38;5;124mtext\u001b[39m\u001b[38;5;124m\"\u001b[39m)\n\u001b[0;32m    231\u001b[0m     \u001b[38;5;28;01mraise\u001b[39;00m exception_class(message, screen, stacktrace, alert_text)  \u001b[38;5;66;03m# type: ignore[call-arg]  # mypy is not smart enough here\u001b[39;00m\n\u001b[1;32m--> 232\u001b[0m \u001b[38;5;28;01mraise\u001b[39;00m exception_class(message, screen, stacktrace)\n",
      "\u001b[1;31mStaleElementReferenceException\u001b[0m: Message: stale element reference: stale element not found\n  (Session info: chrome=135.0.7049.85); For documentation on this error, please visit: https://www.selenium.dev/documentation/webdriver/troubleshooting/errors#stale-element-reference-exception\nStacktrace:\n\tGetHandleVerifier [0x00007FF71ACF5335+78597]\n\tGetHandleVerifier [0x00007FF71ACF5390+78688]\n\t(No symbol) [0x00007FF71AAA91AA]\n\t(No symbol) [0x00007FF71AABF524]\n\t(No symbol) [0x00007FF71AABDFF3]\n\t(No symbol) [0x00007FF71AAB17E9]\n\t(No symbol) [0x00007FF71AAAF66F]\n\t(No symbol) [0x00007FF71AAB3B1C]\n\t(No symbol) [0x00007FF71AAB3BEF]\n\t(No symbol) [0x00007FF71AB0002A]\n\t(No symbol) [0x00007FF71AB000F7]\n\t(No symbol) [0x00007FF71AAF5A6B]\n\t(No symbol) [0x00007FF71AB270EA]\n\t(No symbol) [0x00007FF71AAF1AB6]\n\t(No symbol) [0x00007FF71AB27300]\n\t(No symbol) [0x00007FF71AB4F2BB]\n\t(No symbol) [0x00007FF71AB26EC3]\n\t(No symbol) [0x00007FF71AAF03F8]\n\t(No symbol) [0x00007FF71AAF1163]\n\tGetHandleVerifier [0x00007FF71AF9EEED+2870973]\n\tGetHandleVerifier [0x00007FF71AF99698+2848360]\n\tGetHandleVerifier [0x00007FF71AFB6973+2967875]\n\tGetHandleVerifier [0x00007FF71AD1017A+188746]\n\tGetHandleVerifier [0x00007FF71AD1845F+222255]\n\tGetHandleVerifier [0x00007FF71ACFD2B4+111236]\n\tGetHandleVerifier [0x00007FF71ACFD462+111666]\n\tGetHandleVerifier [0x00007FF71ACE3589+5465]\n\tBaseThreadInitThunk [0x00007FFCBC8C259D+29]\n\tRtlUserThreadStart [0x00007FFCBD32AF38+40]\n"
     ]
    }
   ],
   "source": [
    "# 엔터치기\n",
    "search.send_keys(Keys.ENTER)"
   ]
  },
  {
   "cell_type": "code",
   "execution_count": 28,
   "id": "9447dc2a-18c5-4806-b9bd-be7c11c09990",
   "metadata": {},
   "outputs": [
    {
     "ename": "AttributeError",
     "evalue": "'function' object has no attribute 'send_keys'",
     "output_type": "error",
     "traceback": [
      "\u001b[1;31m---------------------------------------------------------------------------\u001b[0m",
      "\u001b[1;31mAttributeError\u001b[0m                            Traceback (most recent call last)",
      "Cell \u001b[1;32mIn[28], line 4\u001b[0m\n\u001b[0;32m      2\u001b[0m body \u001b[38;5;241m=\u001b[39m driver\u001b[38;5;241m.\u001b[39mfind_element\n\u001b[0;32m      3\u001b[0m (By\u001b[38;5;241m.\u001b[39mTAG_NAME, \u001b[38;5;124m\"\u001b[39m\u001b[38;5;124mbody\u001b[39m\u001b[38;5;124m\"\u001b[39m)\n\u001b[1;32m----> 4\u001b[0m body\u001b[38;5;241m.\u001b[39msend_keys(Keys\u001b[38;5;241m.\u001b[39mEND)\n",
      "\u001b[1;31mAttributeError\u001b[0m: 'function' object has no attribute 'send_keys'"
     ]
    }
   ],
   "source": [
    "# 화면 스크롤 하는 방법\n",
    "body = driver.find_element\n",
    "(By.TAG_NAME, \"body\")\n",
    "body.send_keys(Keys.END)"
   ]
  },
  {
   "cell_type": "code",
   "execution_count": 20,
   "id": "16f70641-9697-4b9b-aace-4033dbe18d79",
   "metadata": {},
   "outputs": [],
   "source": [
    "# 페이지 뒤로가기\n",
    "# 태그 X. 크롬이 가지고 있는 기능 -> 드라이버한테 시켜야함\n",
    "driver.back()"
   ]
  },
  {
   "cell_type": "code",
   "execution_count": 34,
   "id": "1ae326fe-7542-487d-842c-0cac7ec8d4a7",
   "metadata": {},
   "outputs": [],
   "source": [
    "# 화면 전환이 일어나면 (검색, 뒤로가기)\n",
    "# 컴퓨터는 모든 기억을 잃어버린다.\n",
    "# 그래서 필요한 요소를 다시 검색해야함.\n",
    "search = driver.find_element(By.ID, \"query\")\n",
    "search.send_keys(\"마라탕\")"
   ]
  },
  {
   "cell_type": "code",
   "execution_count": 35,
   "id": "726ff922-0e69-4610-8888-bccbd17c8fc5",
   "metadata": {},
   "outputs": [],
   "source": [
    "# 검색버튼을 클릭\n",
    "search_btn = driver.find_element(By.CLASS_NAME,\"btn_search\")\n",
    "\n",
    "search_btn.click()"
   ]
  },
  {
   "cell_type": "code",
   "execution_count": 36,
   "id": "75b0b8a6-d424-460e-9428-c3b51bdaeaa5",
   "metadata": {},
   "outputs": [],
   "source": [
    "# 크롬창 종료\n",
    "driver.quit()"
   ]
  },
  {
   "cell_type": "code",
   "execution_count": null,
   "id": "5e2dcf32-7041-4034-88d4-1eac96abd255",
   "metadata": {},
   "outputs": [],
   "source": []
  }
 ],
 "metadata": {
  "kernelspec": {
   "display_name": "Python 3 (ipykernel)",
   "language": "python",
   "name": "python3"
  },
  "language_info": {
   "codemirror_mode": {
    "name": "ipython",
    "version": 3
   },
   "file_extension": ".py",
   "mimetype": "text/x-python",
   "name": "python",
   "nbconvert_exporter": "python",
   "pygments_lexer": "ipython3",
   "version": "3.12.7"
  }
 },
 "nbformat": 4,
 "nbformat_minor": 5
}
