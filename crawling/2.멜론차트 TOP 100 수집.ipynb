{
 "cells": [
  {
   "cell_type": "code",
   "execution_count": 1,
   "id": "e365bd57-78ac-45db-b894-53fa537cef2e",
   "metadata": {},
   "outputs": [],
   "source": [
    "import requests as req\n",
    "from bs4 import BeautifulSoup as bs"
   ]
  },
  {
   "cell_type": "code",
   "execution_count": 9,
   "id": "02c02b75-47b1-4d51-8e87-2cdddaedc88d",
   "metadata": {},
   "outputs": [],
   "source": [
    "head = {\"User-Agent\" : \"Mozilla/5.0 (Windows NT 10.0; Win64; x64) AppleWebKit/537.36 (KHTML, like Gecko) Chrome/135.0.0.0 Safari/537.36\"}\n",
    "res = req.get(\"https://www.melon.com/chart/index.htm\", headers=head)"
   ]
  },
  {
   "cell_type": "code",
   "execution_count": 10,
   "id": "59fcd696-04f9-4e18-83b3-917f52a805bc",
   "metadata": {},
   "outputs": [],
   "source": [
    "soup = bs(res.text,\"lxml\")"
   ]
  },
  {
   "cell_type": "code",
   "execution_count": 28,
   "id": "0abdeccd-a577-421b-b0b9-1d0ab85f9f66",
   "metadata": {},
   "outputs": [],
   "source": [
    "# 클래스명을 여러개 가지고 있을 경우에는 공백을 지우고 .으로 이어준다\n",
    "singer = soup.select(\"div.ellipsis.rank02 > span\")\n",
    "song = soup.select(\"div.ellipsis.rank01 > span > a\")\n",
    "\n",
    "# 순수 텍스트 정보 담은 리스트 제작\n",
    "singer_list = []\n",
    "song_list = []\n",
    "for i in range(len(singer)):\n",
    "    singer_list.append(singer[i].text)\n",
    "    song_list.append(song[i].text)"
   ]
  },
  {
   "cell_type": "code",
   "execution_count": 29,
   "id": "deef008c-36d8-4803-be9b-e942a1d27029",
   "metadata": {},
   "outputs": [
    {
     "name": "stdout",
     "output_type": "stream",
     "text": [
      "['G-DRAGON', '조째즈', 'WOODZ', '제니 (JENNIE)', 'G-DRAGON', '황가람', 'IVE (아이브)', 'aespa', 'BOYNEXTDOOR', '로제 (ROSÉ), Bruno Mars', 'LE SSERAFIM (르세라핌)', '오반(OVAN)', 'DAY6 (데이식스)', 'IVE (아이브)', '로제 (ROSÉ)', '로이킴', '이클립스 (ECLIPSE)', 'KiiiKiii (키키)', 'G-DRAGON', '황가람', 'G-DRAGON', '이창섭', 'DAY6 (데이식스)', 'DAY6 (데이식스)', '임영웅', 'aespa', 'Lady Gaga, Bruno Mars', 'AKMU (악뮤)', 'DAY6 (데이식스)', '이무진', 'BABYMONSTER', 'PLAVE', '순순희(지환)', '아이유', '이예은, 아샤트리, 전건호', '임영웅', '너드커넥션 (Nerd Connection)', 'aespa', '임영웅', '이무진', 'QWER', '성시경', 'G-DRAGON', '멜로망스', 'Hearts2Hearts (하츠투하츠)', 'QWER', '임영웅', '임재현', 'TWS (투어스)', 'PLAVE', '임영웅', '폴킴', 'PLAVE', '잔나비', '임영웅', '이무진', '아일릿(ILLIT)', 'NewJeans', '임영웅', '경서예지, 전건호', 'PLAVE', '(여자)아이들', '박재정', '방탄소년단', 'BOYNEXTDOOR', 'PLAVE', '제니 (JENNIE)', '프로미스나인', 'IVE (아이브)', '우디 (Woody)', '범진', '재쓰비 (JAESSBEE)', '정국', '이영지', 'Crush', '10CM', 'NewJeans', '임영웅', '김민석', '임영웅', '임영웅', '임영웅', '임영웅', '우디 (Woody)', 'NewJeans', '송필근', 'j-hope, Miguel', 'aespa', '순순희', 'KISS OF LIFE', 'DAY6 (데이식스)', 'IVE (아이브)', 'G-DRAGON', '임영웅', 'NewJeans', '로제 (ROSÉ)', '지수 (JISOO)', 'KISS OF LIFE', '태연 (TAEYEON)', '임영웅']\n",
      "['TOO BAD (feat. Anderson .Paak)', '모르시나요(PROD.로코베리)', 'Drowning', 'like JENNIE', 'HOME SWEET HOME (feat. 태양, 대성)', '나는 반딧불', 'REBEL HEART', 'Whiplash', '오늘만 I LOVE YOU', 'APT.', 'HOT', 'Flower', 'HAPPY', 'ATTITUDE', 'toxic till the end', '내게 사랑이 뭐냐고 물어본다면', '소나기', 'I DO ME', 'PO￦ER', '미치게 그리워서', 'TAKE ME', '천상연', '한 페이지가 될 수 있게', 'Welcome to the Show', '사랑은 늘 도망가', 'Supernova', 'Die With A Smile', '어떻게 이별까지 사랑하겠어, 널 사랑하는 거지', '예뻤어', '청춘만화', 'DRIP', 'Dash', '슬픈 초대장', 'Love wins all', 'MY LOVE(2025)', '우리들의 블루스', '그대만 있다면 (여름날 우리 X 너드커넥션 (Nerd Connection))', 'UP (KARINA Solo)', '온기', '청혼하지 않을 이유를 못 찾았어', '내 이름 맑음', '너의 모든 순간', '무제(無題) (Untitled, 2014)', '사랑인가 봐', 'The Chase', '고민중독', '모래 알갱이', '비의 랩소디', '첫 만남은 계획대로 되지 않아', 'RIZZ', 'Home', '모든 날, 모든 순간 (Every day, Every Moment)', 'Island', '주저하는 연인들을 위해', '다시 만날 수 있을까', '에피소드', 'Magnetic', 'How Sweet', '이제 나만 믿어요', '다정히 내 이름을 부르면', 'Chroma Drift', '나는 아픈 건 딱 질색이니까', '헤어지자 말해요', '봄날', '이렇게 좋아해 본 적이 없어요', '12:32 (A to T)', 'Mantra', 'Supersonic', 'I AM', '어제보다 슬픈 오늘', '인사', '너와의 모든 지금', 'Seven (feat. Latto) - Clean Ver.', 'Small girl (feat. 도경수(D.O.))', '미안해 미워해 사랑해', '너에게 닿기를', 'Hype Boy', 'Do or Die', '취중고백', '무지개', '인생찬가', 'Polaroid', 'London Boy', '사막에서 꽃을 피우듯', 'Ditto', '숙녀에게', 'Sweet Dreams (feat. Miguel)', 'Armageddon', '살기 위해서', 'Sticky', '녹아내려요', '해야 (HEYA)', 'DRAMA', '연애편지', 'Supernatural', 'number one girl', 'earthquake', 'Igloo', 'To. X', '보금자리']\n"
     ]
    }
   ],
   "source": [
    "print(singer_list)\n",
    "print(song_list)"
   ]
  },
  {
   "cell_type": "code",
   "execution_count": 15,
   "id": "74da219a-f99e-42af-8c79-957e9a5c41e0",
   "metadata": {
    "collapsed": true,
    "jupyter": {
     "outputs_hidden": true
    }
   },
   "outputs": [
    {
     "data": {
      "text/plain": [
       "[<a href=\"javascript:melon.link.goArtistDetail('6984');\" title=\"G-DRAGON - 페이지 이동\">G-DRAGON</a>,\n",
       " <a href=\"javascript:melon.link.goArtistDetail('3186091');\" title=\"조째즈 - 페이지 이동\">조째즈</a>,\n",
       " <a href=\"javascript:melon.link.goArtistDetail('2086047');\" title=\"WOODZ - 페이지 이동\">WOODZ</a>,\n",
       " <a href=\"javascript:melon.link.goArtistDetail('995173');\" title=\"제니 (JENNIE) - 페이지 이동\">제니 (JENNIE)</a>,\n",
       " <a href=\"javascript:melon.link.goArtistDetail('6984');\" title=\"G-DRAGON - 페이지 이동\">G-DRAGON</a>,\n",
       " <a href=\"javascript:melon.link.goArtistDetail('716631');\" title=\"황가람 - 페이지 이동\">황가람</a>,\n",
       " <a href=\"javascript:melon.link.goArtistDetail('3055146');\" title=\"IVE (아이브) - 페이지 이동\">IVE (아이브)</a>,\n",
       " <a href=\"javascript:melon.link.goArtistDetail('2899555');\" title=\"aespa - 페이지 이동\">aespa</a>,\n",
       " <a href=\"javascript:melon.link.goArtistDetail('3458776');\" title=\"BOYNEXTDOOR - 페이지 이동\">BOYNEXTDOOR</a>,\n",
       " <a href=\"javascript:melon.link.goArtistDetail('995171');\" title=\"로제 (ROSÉ) - 페이지 이동\">로제 (ROSÉ)</a>,\n",
       " <a href=\"javascript:melon.link.goArtistDetail('495811');\" title=\"Bruno Mars - 페이지 이동\">Bruno Mars</a>,\n",
       " <a href=\"javascript:melon.link.goArtistDetail('3092950');\" title=\"LE SSERAFIM (르세라핌) - 페이지 이동\">LE SSERAFIM (르세라핌)</a>,\n",
       " <a href=\"javascript:melon.link.goArtistDetail('925515');\" title=\"오반(OVAN) - 페이지 이동\">오반(OVAN)</a>,\n",
       " <a href=\"javascript:melon.link.goArtistDetail('894864');\" title=\"DAY6 (데이식스) - 페이지 이동\">DAY6 (데이식스)</a>,\n",
       " <a href=\"javascript:melon.link.goArtistDetail('3055146');\" title=\"IVE (아이브) - 페이지 이동\">IVE (아이브)</a>,\n",
       " <a href=\"javascript:melon.link.goArtistDetail('995171');\" title=\"로제 (ROSÉ) - 페이지 이동\">로제 (ROSÉ)</a>,\n",
       " <a href=\"javascript:melon.link.goArtistDetail('699632');\" title=\"로이킴 - 페이지 이동\">로이킴</a>,\n",
       " <a href=\"javascript:melon.link.goArtistDetail('3752136');\" title=\"이클립스 (ECLIPSE) - 페이지 이동\">이클립스 (ECLIPSE)</a>,\n",
       " <a href=\"javascript:melon.link.goArtistDetail('4099078');\" title=\"KiiiKiii (키키) - 페이지 이동\">KiiiKiii (키키)</a>,\n",
       " <a href=\"javascript:melon.link.goArtistDetail('6984');\" title=\"G-DRAGON - 페이지 이동\">G-DRAGON</a>,\n",
       " <a href=\"javascript:melon.link.goArtistDetail('716631');\" title=\"황가람 - 페이지 이동\">황가람</a>,\n",
       " <a href=\"javascript:melon.link.goArtistDetail('6984');\" title=\"G-DRAGON - 페이지 이동\">G-DRAGON</a>,\n",
       " <a href=\"javascript:melon.link.goArtistDetail('672288');\" title=\"이창섭 - 페이지 이동\">이창섭</a>,\n",
       " <a href=\"javascript:melon.link.goArtistDetail('894864');\" title=\"DAY6 (데이식스) - 페이지 이동\">DAY6 (데이식스)</a>,\n",
       " <a href=\"javascript:melon.link.goArtistDetail('894864');\" title=\"DAY6 (데이식스) - 페이지 이동\">DAY6 (데이식스)</a>,\n",
       " <a href=\"javascript:melon.link.goArtistDetail('994944');\" title=\"임영웅 - 페이지 이동\">임영웅</a>,\n",
       " <a href=\"javascript:melon.link.goArtistDetail('2899555');\" title=\"aespa - 페이지 이동\">aespa</a>,\n",
       " <a href=\"javascript:melon.link.goArtistDetail('253688');\" title=\"Lady Gaga - 페이지 이동\">Lady Gaga</a>,\n",
       " <a href=\"javascript:melon.link.goArtistDetail('495811');\" title=\"Bruno Mars - 페이지 이동\">Bruno Mars</a>,\n",
       " <a href=\"javascript:melon.link.goArtistDetail('712452');\" title=\"AKMU (악뮤) - 페이지 이동\">AKMU (악뮤)</a>,\n",
       " <a href=\"javascript:melon.link.goArtistDetail('894864');\" title=\"DAY6 (데이식스) - 페이지 이동\">DAY6 (데이식스)</a>,\n",
       " <a href=\"javascript:melon.link.goArtistDetail('2138620');\" title=\"이무진 - 페이지 이동\">이무진</a>,\n",
       " <a href=\"javascript:melon.link.goArtistDetail('3619984');\" title=\"BABYMONSTER - 페이지 이동\">BABYMONSTER</a>,\n",
       " <a href=\"javascript:melon.link.goArtistDetail('3207401');\" title=\"PLAVE - 페이지 이동\">PLAVE</a>,\n",
       " <a href=\"javascript:melon.link.goArtistDetail('2136902');\" title=\"순순희(지환) - 페이지 이동\">순순희(지환)</a>,\n",
       " <a href=\"javascript:melon.link.goArtistDetail('261143');\" title=\"아이유 - 페이지 이동\">아이유</a>,\n",
       " <a href=\"javascript:melon.link.goArtistDetail('3055183');\" title=\"이예은 - 페이지 이동\">이예은</a>,\n",
       " <a href=\"javascript:melon.link.goArtistDetail('2930248');\" title=\"아샤트리 - 페이지 이동\">아샤트리</a>,\n",
       " <a href=\"javascript:melon.link.goArtistDetail('2739011');\" title=\"전건호 - 페이지 이동\">전건호</a>,\n",
       " <a href=\"javascript:melon.link.goArtistDetail('994944');\" title=\"임영웅 - 페이지 이동\">임영웅</a>,\n",
       " <a href=\"javascript:melon.link.goArtistDetail('2243398');\" title=\"너드커넥션 (Nerd Connection) - 페이지 이동\">너드커넥션 (Nerd Connection)</a>,\n",
       " <a href=\"javascript:melon.link.goArtistDetail('2899555');\" title=\"aespa - 페이지 이동\">aespa</a>,\n",
       " <a href=\"javascript:melon.link.goArtistDetail('994944');\" title=\"임영웅 - 페이지 이동\">임영웅</a>,\n",
       " <a href=\"javascript:melon.link.goArtistDetail('2138620');\" title=\"이무진 - 페이지 이동\">이무진</a>,\n",
       " <a href=\"javascript:melon.link.goArtistDetail('3610529');\" title=\"QWER - 페이지 이동\">QWER</a>,\n",
       " <a href=\"javascript:melon.link.goArtistDetail('3305');\" title=\"성시경 - 페이지 이동\">성시경</a>,\n",
       " <a href=\"javascript:melon.link.goArtistDetail('6984');\" title=\"G-DRAGON - 페이지 이동\">G-DRAGON</a>,\n",
       " <a href=\"javascript:melon.link.goArtistDetail('839732');\" title=\"멜로망스 - 페이지 이동\">멜로망스</a>,\n",
       " <a href=\"javascript:melon.link.goArtistDetail('4096106');\" title=\"Hearts2Hearts (하츠투하츠) - 페이지 이동\">Hearts2Hearts (하츠투하츠)</a>,\n",
       " <a href=\"javascript:melon.link.goArtistDetail('3610529');\" title=\"QWER - 페이지 이동\">QWER</a>,\n",
       " <a href=\"javascript:melon.link.goArtistDetail('994944');\" title=\"임영웅 - 페이지 이동\">임영웅</a>,\n",
       " <a href=\"javascript:melon.link.goArtistDetail('2087273');\" title=\"임재현 - 페이지 이동\">임재현</a>,\n",
       " <a href=\"javascript:melon.link.goArtistDetail('3679688');\" title=\"TWS (투어스) - 페이지 이동\">TWS (투어스)</a>,\n",
       " <a href=\"javascript:melon.link.goArtistDetail('3207401');\" title=\"PLAVE - 페이지 이동\">PLAVE</a>,\n",
       " <a href=\"javascript:melon.link.goArtistDetail('994944');\" title=\"임영웅 - 페이지 이동\">임영웅</a>,\n",
       " <a href=\"javascript:melon.link.goArtistDetail('752425');\" title=\"폴킴 - 페이지 이동\">폴킴</a>,\n",
       " <a href=\"javascript:melon.link.goArtistDetail('3207401');\" title=\"PLAVE - 페이지 이동\">PLAVE</a>,\n",
       " <a href=\"javascript:melon.link.goArtistDetail('772253');\" title=\"잔나비 - 페이지 이동\">잔나비</a>,\n",
       " <a href=\"javascript:melon.link.goArtistDetail('994944');\" title=\"임영웅 - 페이지 이동\">임영웅</a>,\n",
       " <a href=\"javascript:melon.link.goArtistDetail('2138620');\" title=\"이무진 - 페이지 이동\">이무진</a>,\n",
       " <a href=\"javascript:melon.link.goArtistDetail('3743525');\" title=\"아일릿(ILLIT) - 페이지 이동\">아일릿(ILLIT)</a>,\n",
       " <a href=\"javascript:melon.link.goArtistDetail('3114174');\" title=\"NewJeans - 페이지 이동\">NewJeans</a>,\n",
       " <a href=\"javascript:melon.link.goArtistDetail('994944');\" title=\"임영웅 - 페이지 이동\">임영웅</a>,\n",
       " <a href=\"javascript:melon.link.goArtistDetail('2863470');\" title=\"경서예지 - 페이지 이동\">경서예지</a>,\n",
       " <a href=\"javascript:melon.link.goArtistDetail('2739011');\" title=\"전건호 - 페이지 이동\">전건호</a>,\n",
       " <a href=\"javascript:melon.link.goArtistDetail('3207401');\" title=\"PLAVE - 페이지 이동\">PLAVE</a>,\n",
       " <a href=\"javascript:melon.link.goArtistDetail('2137482');\" title=\"(여자)아이들 - 페이지 이동\">(여자)아이들</a>,\n",
       " <a href=\"javascript:melon.link.goArtistDetail('738480');\" title=\"박재정 - 페이지 이동\">박재정</a>,\n",
       " <a href=\"javascript:melon.link.goArtistDetail('672375');\" title=\"방탄소년단 - 페이지 이동\">방탄소년단</a>,\n",
       " <a href=\"javascript:melon.link.goArtistDetail('3458776');\" title=\"BOYNEXTDOOR - 페이지 이동\">BOYNEXTDOOR</a>,\n",
       " <a href=\"javascript:melon.link.goArtistDetail('3207401');\" title=\"PLAVE - 페이지 이동\">PLAVE</a>,\n",
       " <a href=\"javascript:melon.link.goArtistDetail('995173');\" title=\"제니 (JENNIE) - 페이지 이동\">제니 (JENNIE)</a>,\n",
       " <a href=\"javascript:melon.link.goArtistDetail('2019210');\" title=\"프로미스나인 - 페이지 이동\">프로미스나인</a>,\n",
       " <a href=\"javascript:melon.link.goArtistDetail('3055146');\" title=\"IVE (아이브) - 페이지 이동\">IVE (아이브)</a>,\n",
       " <a href=\"javascript:melon.link.goArtistDetail('673033');\" title=\"우디 (Woody) - 페이지 이동\">우디 (Woody)</a>,\n",
       " <a href=\"javascript:melon.link.goArtistDetail('2189803');\" title=\"범진 - 페이지 이동\">범진</a>,\n",
       " <a href=\"javascript:melon.link.goArtistDetail('4014215');\" title=\"재쓰비 (JAESSBEE) - 페이지 이동\">재쓰비 (JAESSBEE)</a>,\n",
       " <a href=\"javascript:melon.link.goArtistDetail('725987');\" title=\"정국 - 페이지 이동\">정국</a>,\n",
       " <a href=\"javascript:melon.link.goArtistDetail('2636153');\" title=\"이영지 - 페이지 이동\">이영지</a>,\n",
       " <a href=\"javascript:melon.link.goArtistDetail('674710');\" title=\"Crush - 페이지 이동\">Crush</a>,\n",
       " <a href=\"javascript:melon.link.goArtistDetail('468244');\" title=\"10CM - 페이지 이동\">10CM</a>,\n",
       " <a href=\"javascript:melon.link.goArtistDetail('3114174');\" title=\"NewJeans - 페이지 이동\">NewJeans</a>,\n",
       " <a href=\"javascript:melon.link.goArtistDetail('994944');\" title=\"임영웅 - 페이지 이동\">임영웅</a>,\n",
       " <a href=\"javascript:melon.link.goArtistDetail('839736');\" title=\"김민석 - 페이지 이동\">김민석</a>,\n",
       " <a href=\"javascript:melon.link.goArtistDetail('994944');\" title=\"임영웅 - 페이지 이동\">임영웅</a>,\n",
       " <a href=\"javascript:melon.link.goArtistDetail('994944');\" title=\"임영웅 - 페이지 이동\">임영웅</a>,\n",
       " <a href=\"javascript:melon.link.goArtistDetail('994944');\" title=\"임영웅 - 페이지 이동\">임영웅</a>,\n",
       " <a href=\"javascript:melon.link.goArtistDetail('994944');\" title=\"임영웅 - 페이지 이동\">임영웅</a>,\n",
       " <a href=\"javascript:melon.link.goArtistDetail('673033');\" title=\"우디 (Woody) - 페이지 이동\">우디 (Woody)</a>,\n",
       " <a href=\"javascript:melon.link.goArtistDetail('3114174');\" title=\"NewJeans - 페이지 이동\">NewJeans</a>,\n",
       " <a href=\"javascript:melon.link.goArtistDetail('791498');\" title=\"송필근 - 페이지 이동\">송필근</a>,\n",
       " <a href=\"javascript:melon.link.goArtistDetail('725984');\" title=\"j-hope - 페이지 이동\">j-hope</a>,\n",
       " <a href=\"javascript:melon.link.goArtistDetail('553325');\" title=\"Miguel - 페이지 이동\">Miguel</a>,\n",
       " <a href=\"javascript:melon.link.goArtistDetail('2899555');\" title=\"aespa - 페이지 이동\">aespa</a>,\n",
       " <a href=\"javascript:melon.link.goArtistDetail('2136895');\" title=\"순순희 - 페이지 이동\">순순희</a>,\n",
       " <a href=\"javascript:melon.link.goArtistDetail('3465800');\" title=\"KISS OF LIFE - 페이지 이동\">KISS OF LIFE</a>,\n",
       " <a href=\"javascript:melon.link.goArtistDetail('894864');\" title=\"DAY6 (데이식스) - 페이지 이동\">DAY6 (데이식스)</a>,\n",
       " <a href=\"javascript:melon.link.goArtistDetail('3055146');\" title=\"IVE (아이브) - 페이지 이동\">IVE (아이브)</a>,\n",
       " <a href=\"javascript:melon.link.goArtistDetail('6984');\" title=\"G-DRAGON - 페이지 이동\">G-DRAGON</a>,\n",
       " <a href=\"javascript:melon.link.goArtistDetail('994944');\" title=\"임영웅 - 페이지 이동\">임영웅</a>,\n",
       " <a href=\"javascript:melon.link.goArtistDetail('3114174');\" title=\"NewJeans - 페이지 이동\">NewJeans</a>,\n",
       " <a href=\"javascript:melon.link.goArtistDetail('995171');\" title=\"로제 (ROSÉ) - 페이지 이동\">로제 (ROSÉ)</a>,\n",
       " <a href=\"javascript:melon.link.goArtistDetail('995174');\" title=\"지수 (JISOO) - 페이지 이동\">지수 (JISOO)</a>,\n",
       " <a href=\"javascript:melon.link.goArtistDetail('3465800');\" title=\"KISS OF LIFE - 페이지 이동\">KISS OF LIFE</a>,\n",
       " <a href=\"javascript:melon.link.goArtistDetail('236797');\" title=\"태연 (TAEYEON) - 페이지 이동\">태연 (TAEYEON)</a>,\n",
       " <a href=\"javascript:melon.link.goArtistDetail('994944');\" title=\"임영웅 - 페이지 이동\">임영웅</a>]"
      ]
     },
     "execution_count": 15,
     "metadata": {},
     "output_type": "execute_result"
    }
   ],
   "source": [
    "singer"
   ]
  },
  {
   "cell_type": "code",
   "execution_count": 22,
   "id": "583e93d1-1b6d-4938-9e15-cd2f720a350e",
   "metadata": {},
   "outputs": [
    {
     "data": {
      "text/plain": [
       "[<a href=\"javascript:melon.play.playSong('1000002721',38589554);\" title=\"TOO BAD (feat. Anderson .Paak) 재생\">TOO BAD (feat. Anderson .Paak)</a>,\n",
       " <a href=\"javascript:melon.play.playSong('1000002721',38429074);\" title=\"모르시나요(PROD.로코베리) 재생\">모르시나요(PROD.로코베리)</a>,\n",
       " <a href=\"javascript:melon.play.playSong('1000002721',36397952);\" title=\"Drowning 재생\">Drowning</a>,\n",
       " <a href=\"javascript:melon.play.playSong('1000002721',38629386);\" title=\"like JENNIE 재생\">like JENNIE</a>,\n",
       " <a href=\"javascript:melon.play.playSong('1000002721',38242510);\" title=\"HOME SWEET HOME (feat. 태양, 대성) 재생\">HOME SWEET HOME (feat. 태양, 대성)</a>,\n",
       " <a href=\"javascript:melon.play.playSong('1000002721',38123338);\" title=\"나는 반딧불 재생\">나는 반딧불</a>,\n",
       " <a href=\"javascript:melon.play.playSong('1000002721',38444825);\" title=\"REBEL HEART 재생\">REBEL HEART</a>,\n",
       " <a href=\"javascript:melon.play.playSong('1000002721',38123332);\" title=\"Whiplash 재생\">Whiplash</a>,\n",
       " <a href=\"javascript:melon.play.playSong('1000002721',38426197);\" title=\"오늘만 I LOVE YOU 재생\">오늘만 I LOVE YOU</a>,\n",
       " <a href=\"javascript:melon.play.playSong('1000002721',38120327);\" title=\"APT. 재생\">APT.</a>,\n",
       " <a href=\"javascript:melon.play.playSong('1000002721',38660167);\" title=\"HOT 재생\">HOT</a>,\n",
       " <a href=\"javascript:melon.play.playSong('1000002721',38635449);\" title=\"Flower 재생\">Flower</a>,\n",
       " <a href=\"javascript:melon.play.playSong('1000002721',37323944);\" title=\"HAPPY 재생\">HAPPY</a>,\n",
       " <a href=\"javascript:melon.play.playSong('1000002721',38516958);\" title=\"ATTITUDE 재생\">ATTITUDE</a>,\n",
       " <a href=\"javascript:melon.play.playSong('1000002721',38300904);\" title=\"toxic till the end 재생\">toxic till the end</a>,\n",
       " <a href=\"javascript:melon.play.playSong('1000002721',38104031);\" title=\"내게 사랑이 뭐냐고 물어본다면 재생\">내게 사랑이 뭐냐고 물어본다면</a>,\n",
       " <a href=\"javascript:melon.play.playSong('1000002721',37390939);\" title=\"소나기 재생\">소나기</a>,\n",
       " <a href=\"javascript:melon.play.playSong('1000002721',38560939);\" title=\"I DO ME 재생\">I DO ME</a>,\n",
       " <a href=\"javascript:melon.play.playSong('1000002721',38164895);\" title=\"PO￦ER 재생\">PO￦ER</a>,\n",
       " <a href=\"javascript:melon.play.playSong('1000002721',38536472);\" title=\"미치게 그리워서 재생\">미치게 그리워서</a>,\n",
       " <a href=\"javascript:melon.play.playSong('1000002721',38589557);\" title=\"TAKE ME 재생\">TAKE ME</a>,\n",
       " <a href=\"javascript:melon.play.playSong('1000002721',37228861);\" title=\"천상연 재생\">천상연</a>,\n",
       " <a href=\"javascript:melon.play.playSong('1000002721',31927275);\" title=\"한 페이지가 될 수 있게 재생\">한 페이지가 될 수 있게</a>,\n",
       " <a href=\"javascript:melon.play.playSong('1000002721',37323943);\" title=\"Welcome to the Show 재생\">Welcome to the Show</a>,\n",
       " <a href=\"javascript:melon.play.playSong('1000002721',34061322);\" title=\"사랑은 늘 도망가 재생\">사랑은 늘 도망가</a>,\n",
       " <a href=\"javascript:melon.play.playSong('1000002721',37524037);\" title=\"Supernova 재생\">Supernova</a>,\n",
       " <a href=\"javascript:melon.play.playSong('1000002721',37901626);\" title=\"Die With A Smile 재생\">Die With A Smile</a>,\n",
       " <a href=\"javascript:melon.play.playSong('1000002721',32061975);\" title=\"어떻게 이별까지 사랑하겠어, 널 사랑하는 거지 재생\">어떻게 이별까지 사랑하겠어, 널 사랑하는 거지</a>,\n",
       " <a href=\"javascript:melon.play.playSong('1000002721',30232719);\" title=\"예뻤어 재생\">예뻤어</a>,\n",
       " <a href=\"javascript:melon.play.playSong('1000002721',38071559);\" title=\"청춘만화 재생\">청춘만화</a>,\n",
       " <a href=\"javascript:melon.play.playSong('1000002721',38161297);\" title=\"DRIP 재생\">DRIP</a>,\n",
       " <a href=\"javascript:melon.play.playSong('1000002721',38517300);\" title=\"Dash 재생\">Dash</a>,\n",
       " <a href=\"javascript:melon.play.playSong('1000002721',37069064);\" title=\"슬픈 초대장 재생\">슬픈 초대장</a>,\n",
       " <a href=\"javascript:melon.play.playSong('1000002721',37145732);\" title=\"Love wins all 재생\">Love wins all</a>,\n",
       " <a href=\"javascript:melon.play.playSong('1000002721',38583620);\" title=\"MY LOVE(2025) 재생\">MY LOVE(2025)</a>,\n",
       " <a href=\"javascript:melon.play.playSong('1000002721',34908740);\" title=\"우리들의 블루스 재생\">우리들의 블루스</a>,\n",
       " <a href=\"javascript:melon.play.playSong('1000002721',36699489);\" title=\"그대만 있다면 (여름날 우리 X 너드커넥션 (Nerd Connection)) 재생\">그대만 있다면 (여름날 우리 X 너드커넥션 (Nerd Connection))</a>,\n",
       " <a href=\"javascript:melon.play.playSong('1000002721',38077932);\" title=\"UP (KARINA Solo) 재생\">UP (KARINA Solo)</a>,\n",
       " <a href=\"javascript:melon.play.playSong('1000002721',37491072);\" title=\"온기 재생\">온기</a>,\n",
       " <a href=\"javascript:melon.play.playSong('1000002721',37375706);\" title=\"청혼하지 않을 이유를 못 찾았어 재생\">청혼하지 않을 이유를 못 찾았어</a>,\n",
       " <a href=\"javascript:melon.play.playSong('1000002721',38022274);\" title=\"내 이름 맑음 재생\">내 이름 맑음</a>,\n",
       " <a href=\"javascript:melon.play.playSong('1000002721',4446485);\" title=\"너의 모든 순간 재생\">너의 모든 순간</a>,\n",
       " <a href=\"javascript:melon.play.playSong('1000002721',30461396);\" title=\"무제(無題) (Untitled, 2014) 재생\">무제(無題) (Untitled, 2014)</a>,\n",
       " <a href=\"javascript:melon.play.playSong('1000002721',34657844);\" title=\"사랑인가 봐 재생\">사랑인가 봐</a>,\n",
       " <a href=\"javascript:melon.play.playSong('1000002721',38583704);\" title=\"The Chase 재생\">The Chase</a>,\n",
       " <a href=\"javascript:melon.play.playSong('1000002721',37373234);\" title=\"고민중독 재생\">고민중독</a>,\n",
       " <a href=\"javascript:melon.play.playSong('1000002721',36502910);\" title=\"모래 알갱이 재생\">모래 알갱이</a>,\n",
       " <a href=\"javascript:melon.play.playSong('1000002721',37023625);\" title=\"비의 랩소디 재생\">비의 랩소디</a>,\n",
       " <a href=\"javascript:melon.play.playSong('1000002721',37140709);\" title=\"첫 만남은 계획대로 되지 않아 재생\">첫 만남은 계획대로 되지 않아</a>,\n",
       " <a href=\"javascript:melon.play.playSong('1000002721',38517301);\" title=\"RIZZ 재생\">RIZZ</a>,\n",
       " <a href=\"javascript:melon.play.playSong('1000002721',37491071);\" title=\"Home 재생\">Home</a>,\n",
       " <a href=\"javascript:melon.play.playSong('1000002721',30962526);\" title=\"모든 날, 모든 순간 (Every day, Every Moment) 재생\">모든 날, 모든 순간 (Every day, Every Moment)</a>,\n",
       " <a href=\"javascript:melon.play.playSong('1000002721',38517302);\" title=\"Island 재생\">Island</a>,\n",
       " <a href=\"javascript:melon.play.playSong('1000002721',31666417);\" title=\"주저하는 연인들을 위해 재생\">주저하는 연인들을 위해</a>,\n",
       " <a href=\"javascript:melon.play.playSong('1000002721',35008524);\" title=\"다시 만날 수 있을까 재생\">다시 만날 수 있을까</a>,\n",
       " <a href=\"javascript:melon.play.playSong('1000002721',37053556);\" title=\"에피소드 재생\">에피소드</a>,\n",
       " <a href=\"javascript:melon.play.playSong('1000002721',37347911);\" title=\"Magnetic 재생\">Magnetic</a>,\n",
       " <a href=\"javascript:melon.play.playSong('1000002721',37563682);\" title=\"How Sweet 재생\">How Sweet</a>,\n",
       " <a href=\"javascript:melon.play.playSong('1000002721',32508053);\" title=\"이제 나만 믿어요 재생\">이제 나만 믿어요</a>,\n",
       " <a href=\"javascript:melon.play.playSong('1000002721',33496587);\" title=\"다정히 내 이름을 부르면 재생\">다정히 내 이름을 부르면</a>,\n",
       " <a href=\"javascript:melon.play.playSong('1000002721',38517299);\" title=\"Chroma Drift 재생\">Chroma Drift</a>,\n",
       " <a href=\"javascript:melon.play.playSong('1000002721',37138469);\" title=\"나는 아픈 건 딱 질색이니까 재생\">나는 아픈 건 딱 질색이니까</a>,\n",
       " <a href=\"javascript:melon.play.playSong('1000002721',36382580);\" title=\"헤어지자 말해요 재생\">헤어지자 말해요</a>,\n",
       " <a href=\"javascript:melon.play.playSong('1000002721',30244931);\" title=\"봄날 재생\">봄날</a>,\n",
       " <a href=\"javascript:melon.play.playSong('1000002721',38656643);\" title=\"이렇게 좋아해 본 적이 없어요 재생\">이렇게 좋아해 본 적이 없어요</a>,\n",
       " <a href=\"javascript:melon.play.playSong('1000002721',38517303);\" title=\"12:32 (A to T) 재생\">12:32 (A to T)</a>,\n",
       " <a href=\"javascript:melon.play.playSong('1000002721',38087937);\" title=\"Mantra 재생\">Mantra</a>,\n",
       " <a href=\"javascript:melon.play.playSong('1000002721',37884934);\" title=\"Supersonic 재생\">Supersonic</a>,\n",
       " <a href=\"javascript:melon.play.playSong('1000002721',36356993);\" title=\"I AM 재생\">I AM</a>,\n",
       " <a href=\"javascript:melon.play.playSong('1000002721',38733032);\" title=\"어제보다 슬픈 오늘 재생\">어제보다 슬픈 오늘</a>,\n",
       " <a href=\"javascript:melon.play.playSong('1000002721',34451383);\" title=\"인사 재생\">인사</a>,\n",
       " <a href=\"javascript:melon.play.playSong('1000002721',38195515);\" title=\"너와의 모든 지금 재생\">너와의 모든 지금</a>,\n",
       " <a href=\"javascript:melon.play.playSong('1000002721',36617841);\" title=\"Seven (feat. Latto) - Clean Ver. 재생\">Seven (feat. Latto) - Clean Ver.</a>,\n",
       " <a href=\"javascript:melon.play.playSong('1000002721',37657039);\" title=\"Small girl (feat. 도경수(D.O.)) 재생\">Small girl (feat. 도경수(D.O.))</a>,\n",
       " <a href=\"javascript:melon.play.playSong('1000002721',37344905);\" title=\"미안해 미워해 사랑해 재생\">미안해 미워해 사랑해</a>,\n",
       " <a href=\"javascript:melon.play.playSong('1000002721',38626852);\" title=\"너에게 닿기를 재생\">너에게 닿기를</a>,\n",
       " <a href=\"javascript:melon.play.playSong('1000002721',35454426);\" title=\"Hype Boy 재생\">Hype Boy</a>,\n",
       " <a href=\"javascript:melon.play.playSong('1000002721',36855841);\" title=\"Do or Die 재생\">Do or Die</a>,\n",
       " <a href=\"javascript:melon.play.playSong('1000002721',34431086);\" title=\"취중고백 재생\">취중고백</a>,\n",
       " <a href=\"javascript:melon.play.playSong('1000002721',35008525);\" title=\"무지개 재생\">무지개</a>,\n",
       " <a href=\"javascript:melon.play.playSong('1000002721',35008534);\" title=\"인생찬가 재생\">인생찬가</a>,\n",
       " <a href=\"javascript:melon.play.playSong('1000002721',35834584);\" title=\"Polaroid 재생\">Polaroid</a>,\n",
       " <a href=\"javascript:melon.play.playSong('1000002721',35834583);\" title=\"London Boy 재생\">London Boy</a>,\n",
       " <a href=\"javascript:melon.play.playSong('1000002721',36616378);\" title=\"사막에서 꽃을 피우듯 재생\">사막에서 꽃을 피우듯</a>,\n",
       " <a href=\"javascript:melon.play.playSong('1000002721',35945927);\" title=\"Ditto 재생\">Ditto</a>,\n",
       " <a href=\"javascript:melon.play.playSong('1000002721',38661887);\" title=\"숙녀에게 재생\">숙녀에게</a>,\n",
       " <a href=\"javascript:melon.play.playSong('1000002721',38633431);\" title=\"Sweet Dreams (feat. Miguel) 재생\">Sweet Dreams (feat. Miguel)</a>,\n",
       " <a href=\"javascript:melon.play.playSong('1000002721',37524038);\" title=\"Armageddon 재생\">Armageddon</a>,\n",
       " <a href=\"javascript:melon.play.playSong('1000002721',34941788);\" title=\"살기 위해서 재생\">살기 위해서</a>,\n",
       " <a href=\"javascript:melon.play.playSong('1000002721',37693124);\" title=\"Sticky 재생\">Sticky</a>,\n",
       " <a href=\"javascript:melon.play.playSong('1000002721',37946921);\" title=\"녹아내려요 재생\">녹아내려요</a>,\n",
       " <a href=\"javascript:melon.play.playSong('1000002721',37463572);\" title=\"해야 (HEYA) 재생\">해야 (HEYA)</a>,\n",
       " <a href=\"javascript:melon.play.playSong('1000002721',38589555);\" title=\"DRAMA 재생\">DRAMA</a>,\n",
       " <a href=\"javascript:melon.play.playSong('1000002721',35008532);\" title=\"연애편지 재생\">연애편지</a>,\n",
       " <a href=\"javascript:melon.play.playSong('1000002721',37659322);\" title=\"Supernatural 재생\">Supernatural</a>,\n",
       " <a href=\"javascript:melon.play.playSong('1000002721',38244575);\" title=\"number one girl 재생\">number one girl</a>,\n",
       " <a href=\"javascript:melon.play.playSong('1000002721',38557707);\" title=\"earthquake 재생\">earthquake</a>,\n",
       " <a href=\"javascript:melon.play.playSong('1000002721',38068560);\" title=\"Igloo 재생\">Igloo</a>,\n",
       " <a href=\"javascript:melon.play.playSong('1000002721',37003911);\" title=\"To. X 재생\">To. X</a>,\n",
       " <a href=\"javascript:melon.play.playSong('1000002721',35008530);\" title=\"보금자리 재생\">보금자리</a>]"
      ]
     },
     "execution_count": 22,
     "metadata": {},
     "output_type": "execute_result"
    }
   ],
   "source": [
    "song"
   ]
  },
  {
   "cell_type": "code",
   "execution_count": 17,
   "id": "00ad99ca-b298-4780-9809-0c3782d7f2bc",
   "metadata": {},
   "outputs": [
    {
     "data": {
      "text/plain": [
       "106"
      ]
     },
     "execution_count": 17,
     "metadata": {},
     "output_type": "execute_result"
    }
   ],
   "source": [
    "# 갯수가 정해진 데이터를 수집할 때에는 반드시 데이터의 갯수를 체크\n",
    "len(singer)"
   ]
  },
  {
   "cell_type": "code",
   "execution_count": 20,
   "id": "53588c80-39d3-4b41-8d85-a6ae6b477682",
   "metadata": {},
   "outputs": [
    {
     "data": {
      "text/plain": [
       "<span class=\"checkEllipsis\" style=\"display:none\"><a href=\"javascript:melon.link.goArtistDetail('6984');\" title=\"G-DRAGON - 페이지 이동\">G-DRAGON</a></span>"
      ]
     },
     "execution_count": 20,
     "metadata": {},
     "output_type": "execute_result"
    }
   ],
   "source": [
    "# 부정확한 데이터가 수집되면 반드시 HTML 코드 정보를 다시 확인\n",
    "# select_one(수집데이터의 갯수가 복수면 첫번째 데이터)\n",
    "#singer  = soup.select_one(\"div.ellipsis.rank02 > span.checkEllipsis\")\n",
    "singer"
   ]
  },
  {
   "cell_type": "code",
   "execution_count": 31,
   "id": "f92ebb93-9fcd-43c6-98bb-6f5e958b5db5",
   "metadata": {},
   "outputs": [],
   "source": [
    "# 표 제작\n",
    "import pandas as pd"
   ]
  },
  {
   "cell_type": "code",
   "execution_count": 34,
   "id": "7ae6cd77-4f5b-4908-89d3-91e35727f2b4",
   "metadata": {},
   "outputs": [],
   "source": [
    "dic = {\"가수이름\" : singer_list, \"노래제목\" : song_list}\n",
    "melon = pd.DataFrame(dic)\n",
    "\n",
    "# encoding을 해야한다면\n",
    "# utf-8 / euc-kr / utf-8-sig\n",
    "melon.to_csv(\"멜론차트.csv\", encoding=\"utf-8\")\n"
   ]
  },
  {
   "cell_type": "code",
   "execution_count": null,
   "id": "141ed9ce-3a58-4cfd-8bc5-d961228b4242",
   "metadata": {},
   "outputs": [],
   "source": []
  },
  {
   "cell_type": "code",
   "execution_count": null,
   "id": "cd0f56df-33a6-4736-b7a4-91f854e42dd5",
   "metadata": {},
   "outputs": [],
   "source": []
  },
  {
   "cell_type": "code",
   "execution_count": null,
   "id": "5356a4df-eb3c-4fce-bded-25f11b7eebcb",
   "metadata": {},
   "outputs": [],
   "source": []
  }
 ],
 "metadata": {
  "kernelspec": {
   "display_name": "Python 3 (ipykernel)",
   "language": "python",
   "name": "python3"
  },
  "language_info": {
   "codemirror_mode": {
    "name": "ipython",
    "version": 3
   },
   "file_extension": ".py",
   "mimetype": "text/x-python",
   "name": "python",
   "nbconvert_exporter": "python",
   "pygments_lexer": "ipython3",
   "version": "3.12.7"
  }
 },
 "nbformat": 4,
 "nbformat_minor": 5
}
