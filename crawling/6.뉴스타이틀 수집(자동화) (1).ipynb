{
 "cells": [
  {
   "cell_type": "code",
   "execution_count": 27,
   "id": "665cf5bc-93c1-4601-b824-eccb74eda6dc",
   "metadata": {},
   "outputs": [],
   "source": [
    "# 필요한 라이브러리 import\n",
    "# webdriver : 크롬 창 역할\n",
    "from selenium import webdriver as wb\n",
    "# 키보드 라이브러리\n",
    "from selenium.webdriver.common.keys import Keys\n",
    "# 선택자 라이브러리\n",
    "from selenium.webdriver.common.by import By\n",
    "import time"
   ]
  },
  {
   "cell_type": "code",
   "execution_count": 18,
   "id": "e31f48ca-931d-47af-b274-bba98b08fbb3",
   "metadata": {},
   "outputs": [],
   "source": [
    "# 크롬 브라우저 실행\n",
    "driver = wb.Chrome()"
   ]
  },
  {
   "cell_type": "code",
   "execution_count": 19,
   "id": "4bafdbb0-7499-4fcd-b63c-956bfb00113d",
   "metadata": {},
   "outputs": [],
   "source": [
    "# 네이버 메인페이지\" 주소를 주고 이동하라고 시킴\n",
    "driver.get(\"https://www.naver.com/\")"
   ]
  },
  {
   "cell_type": "code",
   "execution_count": 20,
   "id": "fdc79ec3-6207-4028-8eb5-650b9c31d21d",
   "metadata": {},
   "outputs": [],
   "source": [
    "# 검색창 요소를 찾기\n",
    "# 검색창에 \"롯데월드\" 단어를 보내기 (입력)\n",
    "search = driver.find_element(By.CSS_SELECTOR,\"#query\")\n",
    "search.send_keys(\"롯데월드\")"
   ]
  },
  {
   "cell_type": "code",
   "execution_count": 21,
   "id": "cc36f3aa-3a70-41b9-883a-64d61a0762d3",
   "metadata": {},
   "outputs": [],
   "source": [
    "# 검색창 대상으로 \"엔터\"\n",
    "search.send_keys(Keys.ENTER)"
   ]
  },
  {
   "cell_type": "code",
   "execution_count": 23,
   "id": "9eb3c94c-4a42-4db2-b916-6f02de9cf766",
   "metadata": {},
   "outputs": [],
   "source": [
    "# 뉴스 탭 클릭해보기\n",
    "# 특정 요소를 선택할 때, 개발자 도구에서 태그 우클릭 -> [copy] -> [copy selector] 누르면\n",
    "# 그 요소의 고유 선택자를 가져올 수 있는데, 복사한 전체를 사용해야할지, 아니면 뒷부분만 사용해도 될지는 판단해보기\n",
    "tab = driver.find_element(By.CSS_SELECTOR,\"#lnb > div.lnb_group > div > div.lnb_nav_area._nav_area_root > div > div.api_flicking_wrap._conveyer_root > div:nth-child(8) > a\")\n",
    "tab.click()"
   ]
  },
  {
   "cell_type": "code",
   "execution_count": 38,
   "id": "63f5dbff-c097-4fa5-a5ce-63122a1096c2",
   "metadata": {},
   "outputs": [],
   "source": [
    "body = driver.find_element(By.TAG_NAME, \"body\")\n",
    "\n",
    "for i in range(5):\n",
    "    body.send_keys(Keys.END)\n",
    "    time.sleep(1)"
   ]
  },
  {
   "cell_type": "code",
   "execution_count": 36,
   "id": "21665b49-e886-4ecf-a30a-2a7c08926c5e",
   "metadata": {},
   "outputs": [],
   "source": [
    "# 뉴스 타이틀 수집\n",
    "news = driver.find_elements(By.CSS_SELECTOR, \"a.news_tit\")\n"
   ]
  },
  {
   "cell_type": "code",
   "execution_count": 39,
   "id": "fcdf64dc-10e9-4606-acac-39d96ca7159c",
   "metadata": {},
   "outputs": [],
   "source": [
    "news_list = []\n",
    "for i in range(len(news)):\n",
    "    news_list.append(news[i].text)"
   ]
  },
  {
   "cell_type": "code",
   "execution_count": 40,
   "id": "4fc242c1-2540-4712-b415-6f901f7437e1",
   "metadata": {},
   "outputs": [
    {
     "data": {
      "text/plain": [
       "['롯데월드에서 만나는 bhc 콜팝의 이야기…산호세점 정식 오픈',\n",
       " \"롯데월드 아쿠아리움, '보노보노 친구들과 아쿠아리움 나들이' 진행\",\n",
       " '“아들아 좋아? 아빠도 좋아”...초대박 행진에 발 디딜 틈 없다는 롯데...',\n",
       " '롯데월드, ‘포켓몬’ 효과에 3월 매출 10% 늘어',\n",
       " '\"롯데월드타워 정상까지 도전\"… 롯데, \\'패밀리 스카이런\\' 개최',\n",
       " \"bhc, 롯데월드에 '콜팝' 테마 체험형 매장 오픈... 브랜드 공간 혁신 시...\",\n",
       " 'SL&C, 롯데월드몰·현대百 판교점에 ‘이타마에 스시’ 동시 오픈',\n",
       " '\"귀여움 폭발\"…보노보노, 롯데월드 아쿠아리움에 떴다',\n",
       " '이타마에 스시, 롯데월드몰·현대백화점 판교점 오픈',\n",
       " '\"아기 해달, 잠실에 뜬다\" 롯데월드 아쿠아리움x보노보노',\n",
       " '롯데월드타워 4배 높이…사우디, 2㎞ 마천루 건설 계획',\n",
       " '롯데월드 샤롯데 봉사단 나무 심기 봉사',\n",
       " '‘찰떡 컬래버’ 롯데월드 아쿠아리움에서 만나는 보노보노 세상',\n",
       " '“롯데월드타워 123층 오르기 도전”',\n",
       " \"롯데그룹 노사 함께 '롯데월드타워' 오른다\",\n",
       " \"'1천만 러너의 성지' 롯데 잠실월드몰에 '디스턴스' 팝업\",\n",
       " '롯데월드 어드벤처와 즐기는 벚꽃놀이',\n",
       " '화순군청소년수련관, 롯데월드 문화체험',\n",
       " \"bhc, 콜팝 담은 브랜드 매장 'bhc pop' 롯데월드서 첫 선\",\n",
       " \"롯데월드 아쿠아리움, '보노보노 친구들과 아쿠아리움 나들이' 진행\"]"
      ]
     },
     "execution_count": 40,
     "metadata": {},
     "output_type": "execute_result"
    }
   ],
   "source": [
    "news_list"
   ]
  },
  {
   "cell_type": "code",
   "execution_count": 41,
   "id": "c6034e58-ba0b-4993-af21-6f782393199c",
   "metadata": {},
   "outputs": [
    {
     "data": {
      "text/plain": [
       "20"
      ]
     },
     "execution_count": 41,
     "metadata": {},
     "output_type": "execute_result"
    }
   ],
   "source": [
    "len(news_list)"
   ]
  },
  {
   "cell_type": "code",
   "execution_count": null,
   "id": "69564648-f06d-49a7-99c7-925bef9e1f8f",
   "metadata": {},
   "outputs": [],
   "source": []
  },
  {
   "cell_type": "code",
   "execution_count": null,
   "id": "ed1d23cd-0b93-4a0c-a010-ac718a908816",
   "metadata": {},
   "outputs": [],
   "source": []
  },
  {
   "cell_type": "code",
   "execution_count": null,
   "id": "2b2e4d5b-9de4-4ce1-9894-6614152a0dab",
   "metadata": {},
   "outputs": [],
   "source": []
  },
  {
   "cell_type": "code",
   "execution_count": null,
   "id": "8f6a7579-4127-4706-9a98-1948fda94f83",
   "metadata": {},
   "outputs": [],
   "source": []
  },
  {
   "cell_type": "code",
   "execution_count": null,
   "id": "ba8b352a-d75b-4dee-83c1-4d6d80981314",
   "metadata": {},
   "outputs": [],
   "source": []
  },
  {
   "cell_type": "code",
   "execution_count": null,
   "id": "4f7575f7-b532-4376-8bc1-55bef3fd79ef",
   "metadata": {},
   "outputs": [],
   "source": []
  },
  {
   "cell_type": "code",
   "execution_count": null,
   "id": "6d8ba80b-3d63-49de-b34b-f33af06c7084",
   "metadata": {},
   "outputs": [],
   "source": []
  },
  {
   "cell_type": "code",
   "execution_count": null,
   "id": "87b18e22-ce78-47b1-bb39-619c90d51e25",
   "metadata": {},
   "outputs": [],
   "source": []
  }
 ],
 "metadata": {
  "kernelspec": {
   "display_name": "Python 3 (ipykernel)",
   "language": "python",
   "name": "python3"
  },
  "language_info": {
   "codemirror_mode": {
    "name": "ipython",
    "version": 3
   },
   "file_extension": ".py",
   "mimetype": "text/x-python",
   "name": "python",
   "nbconvert_exporter": "python",
   "pygments_lexer": "ipython3",
   "version": "3.12.7"
  }
 },
 "nbformat": 4,
 "nbformat_minor": 5
}
