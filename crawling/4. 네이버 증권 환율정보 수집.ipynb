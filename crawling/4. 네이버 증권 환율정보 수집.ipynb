{
 "cells": [
  {
   "cell_type": "code",
   "execution_count": 1,
   "id": "cb982306-b8ca-4bbf-8f59-336f13d883aa",
   "metadata": {},
   "outputs": [],
   "source": [
    "import requests as req\n",
    "from bs4 import BeautifulSoup as bs"
   ]
  },
  {
   "cell_type": "code",
   "execution_count": 2,
   "id": "ec81ea9b-188d-4914-8533-022a562a4e27",
   "metadata": {},
   "outputs": [],
   "source": [
    "res = req.get(\"https://finance.naver.com/marketindex/?tabSel=exchange#tab_section\")"
   ]
  },
  {
   "cell_type": "code",
   "execution_count": 3,
   "id": "22c24507-e5e6-4f9b-b362-4342d40d5f75",
   "metadata": {},
   "outputs": [],
   "source": [
    "soup = bs(res.text, \"lxml\")"
   ]
  },
  {
   "cell_type": "code",
   "execution_count": null,
   "id": "9f425645-67e3-4f50-bdf6-f6e11b42be93",
   "metadata": {},
   "outputs": [],
   "source": [
    "soup.select(\"td.tit >a\")"
   ]
  },
  {
   "cell_type": "markdown",
   "id": "68ae5bd7-9e99-4615-a2dd-05836ffb7e58",
   "metadata": {},
   "source": [
    "# iframe 데이터 처리\n",
    "- iframe 데이터는 화면상에 정보는 보이지만 실제 데이터는 다른 공간에 존재함"
   ]
  },
  {
   "cell_type": "code",
   "execution_count": null,
   "id": "562bf047-eaf7-4741-9b52-2071c2c7d8f0",
   "metadata": {},
   "outputs": [],
   "source": [
    "# 다른 공간에 존재하는 iframe데이터를 가지고 오려면\n",
    "# 해결법 : 실제 데이터가 존재하는 공간의 URL로 요청을 보내야 한다.\n",
    "# 위치 : iframe 태그의 src 경로를 사용\n",
    "#       대부분 경로는 상대경로로 작성되있음\n",
    "# 절대경로 + 상대경로 합쳐서 요청 URL 제작"
   ]
  },
  {
   "cell_type": "code",
   "execution_count": 4,
   "id": "70b0f1c9-f583-4ea7-bde8-996deeefd147",
   "metadata": {},
   "outputs": [],
   "source": [
    "res = req.get(\"https://finance.naver.com/marketindex/exchangeList.naver\")\n",
    "soup = bs(res.text,\"lxml\")"
   ]
  },
  {
   "cell_type": "code",
   "execution_count": 7,
   "id": "5a991858-d154-4fdc-9501-bb8c6fab0a5c",
   "metadata": {},
   "outputs": [],
   "source": [
    "title = soup.select(\"td.tit > a\")"
   ]
  },
  {
   "cell_type": "code",
   "execution_count": 10,
   "id": "a92b492f-cdfe-4ad2-9a88-8c9cb3d4dab1",
   "metadata": {},
   "outputs": [],
   "source": [
    "title_list = []\n",
    "# 개행문자나 공백을 지울 때는 strip()\n",
    "for i in title:\n",
    "    title_list.append(i.text.strip())"
   ]
  },
  {
   "cell_type": "code",
   "execution_count": 11,
   "id": "76d31408-c9a4-47a5-ab23-95af54368854",
   "metadata": {},
   "outputs": [
    {
     "data": {
      "text/plain": [
       "['미국 USD',\n",
       " '유럽연합 EUR',\n",
       " '일본 JPY (100엔)',\n",
       " '중국 CNY',\n",
       " '홍콩 HKD',\n",
       " '대만 TWD',\n",
       " '영국 GBP',\n",
       " '오만 OMR',\n",
       " '캐나다 CAD',\n",
       " '스위스 CHF',\n",
       " '스웨덴 SEK',\n",
       " '호주 AUD',\n",
       " '뉴질랜드 NZD',\n",
       " '체코 CZK',\n",
       " '칠레 CLP',\n",
       " '튀르키예 TRY',\n",
       " '몽골 MNT',\n",
       " '이스라엘 ILS',\n",
       " '덴마크 DKK',\n",
       " '노르웨이 NOK',\n",
       " '사우디아라비아 SAR',\n",
       " '쿠웨이트 KWD',\n",
       " '바레인 BHD',\n",
       " '아랍에미리트 AED',\n",
       " '요르단 JOD',\n",
       " '이집트 EGP',\n",
       " '태국 THB',\n",
       " '싱가포르 SGD',\n",
       " '말레이시아 MYR',\n",
       " '인도네시아 IDR 100',\n",
       " '카타르 QAR',\n",
       " '카자흐스탄 KZT',\n",
       " '브루나이 BND',\n",
       " '인도 INR',\n",
       " '파키스탄 PKR',\n",
       " '방글라데시 BDT',\n",
       " '필리핀 PHP',\n",
       " '멕시코 MXN',\n",
       " '브라질 BRL',\n",
       " '베트남 VND 100',\n",
       " '남아프리카 공화국 ZAR',\n",
       " '러시아 RUB',\n",
       " '헝가리 HUF',\n",
       " '폴란드 PLN',\n",
       " '스리랑카 LKR',\n",
       " '알제리 DZD',\n",
       " '케냐 KES',\n",
       " '콜롬비아 COP',\n",
       " '탄자니아 TZS',\n",
       " '네팔 NPR',\n",
       " '루마니아 RON',\n",
       " '리비아 LYD',\n",
       " '마카오 MOP',\n",
       " '미얀마 MMK',\n",
       " '에티오피아 ETB',\n",
       " '우즈베키스탄 UZS',\n",
       " '캄보디아 KHR',\n",
       " '피지 FJD']"
      ]
     },
     "execution_count": 11,
     "metadata": {},
     "output_type": "execute_result"
    }
   ],
   "source": [
    "title_list"
   ]
  },
  {
   "cell_type": "code",
   "execution_count": null,
   "id": "5ca59533-922c-4395-9fbe-69390175cba0",
   "metadata": {},
   "outputs": [],
   "source": []
  },
  {
   "cell_type": "code",
   "execution_count": null,
   "id": "84e2e41a-0e91-4afa-9cc5-7e543d920885",
   "metadata": {},
   "outputs": [],
   "source": []
  },
  {
   "cell_type": "code",
   "execution_count": null,
   "id": "0011cc21-11e8-4e73-981f-c06910d27056",
   "metadata": {},
   "outputs": [],
   "source": []
  },
  {
   "cell_type": "code",
   "execution_count": null,
   "id": "2f45330c-2de2-4bad-9d78-a98c843aa490",
   "metadata": {},
   "outputs": [],
   "source": []
  },
  {
   "cell_type": "code",
   "execution_count": null,
   "id": "29051b05-8467-4e11-b8b4-e2c522fdb646",
   "metadata": {},
   "outputs": [],
   "source": []
  },
  {
   "cell_type": "code",
   "execution_count": null,
   "id": "e9137091-ca13-42ed-b161-539008f9b89e",
   "metadata": {},
   "outputs": [],
   "source": []
  },
  {
   "cell_type": "code",
   "execution_count": null,
   "id": "43e41bf1-23e7-449c-9ef0-fe4f5baff630",
   "metadata": {},
   "outputs": [],
   "source": []
  },
  {
   "cell_type": "code",
   "execution_count": null,
   "id": "1c30f9ec-7b07-4c1b-afb7-0b47c9bff2d1",
   "metadata": {},
   "outputs": [],
   "source": []
  },
  {
   "cell_type": "code",
   "execution_count": null,
   "id": "bc19697a-d803-4a98-8d55-4c348c3730c2",
   "metadata": {},
   "outputs": [],
   "source": []
  },
  {
   "cell_type": "code",
   "execution_count": null,
   "id": "df3966e4-4206-466c-ad90-b7d7d7a2d5d2",
   "metadata": {},
   "outputs": [],
   "source": []
  },
  {
   "cell_type": "code",
   "execution_count": null,
   "id": "2f8deb30-c51c-4d99-9557-20d6f4e2c5c4",
   "metadata": {},
   "outputs": [],
   "source": []
  },
  {
   "cell_type": "code",
   "execution_count": null,
   "id": "3c1a7239-a036-4cf6-a829-dbad5f1b0615",
   "metadata": {},
   "outputs": [],
   "source": []
  },
  {
   "cell_type": "code",
   "execution_count": null,
   "id": "4ecad134-7672-4c00-9779-96d0b8359bd6",
   "metadata": {},
   "outputs": [],
   "source": []
  },
  {
   "cell_type": "code",
   "execution_count": null,
   "id": "6290c3c7-662c-495b-9e77-4c4a66eaaa43",
   "metadata": {},
   "outputs": [],
   "source": []
  }
 ],
 "metadata": {
  "kernelspec": {
   "display_name": "Python 3 (ipykernel)",
   "language": "python",
   "name": "python3"
  },
  "language_info": {
   "codemirror_mode": {
    "name": "ipython",
    "version": 3
   },
   "file_extension": ".py",
   "mimetype": "text/x-python",
   "name": "python",
   "nbconvert_exporter": "python",
   "pygments_lexer": "ipython3",
   "version": "3.12.7"
  }
 },
 "nbformat": 4,
 "nbformat_minor": 5
}
